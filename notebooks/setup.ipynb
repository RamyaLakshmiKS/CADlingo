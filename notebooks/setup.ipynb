{
 "cells": [
  {
   "cell_type": "markdown",
   "id": "ba6421fa",
   "metadata": {},
   "source": [
    "# CADlingo - Initial Setup\n",
    "\n",
    "This notebook verifies that:\n",
    "1. All dependencies are installed correctly\n",
    "2. Project structure exists\n",
    "3. Data loading functions\n",
    "4. Data exploration"
   ]
  },
  {
   "cell_type": "markdown",
   "id": "dc83eebb",
   "metadata": {},
   "source": [
    "## 1. Import Dependencies & Verify Installation"
   ]
  },
  {
   "cell_type": "code",
   "execution_count": 1,
   "id": "43db896e",
   "metadata": {},
   "outputs": [
    {
     "name": "stdout",
     "output_type": "stream",
     "text": [
      "Python: 3.11.14 (main, Oct  9 2025, 16:16:55) [Clang 17.0.0 (clang-1700.0.13.3)]\n",
      "Numpy: 1.24.3\n",
      "Pandas: 2.0.3\n",
      "Matplotlib: 3.7.2\n",
      "Seaborn: 0.12.2\n",
      "Torch: 2.0.1\n",
      "ezdxf: 1.0.3\n"
     ]
    }
   ],
   "source": [
    "# Check Python and package versions\n",
    "import sys\n",
    "import numpy as np\n",
    "import pandas as pd\n",
    "import matplotlib\n",
    "import seaborn as sns\n",
    "import torch\n",
    "import ezdxf\n",
    "print('Python:', sys.version)\n",
    "print('Numpy:', np.__version__)\n",
    "print('Pandas:', pd.__version__)\n",
    "print('Matplotlib:', matplotlib.__version__)\n",
    "print('Seaborn:', sns.__version__)\n",
    "print('Torch:', torch.__version__)\n",
    "print('ezdxf:', ezdxf.__version__)"
   ]
  },
  {
   "cell_type": "markdown",
   "id": "0768a9b8",
   "metadata": {},
   "source": [
    "## 2. Project Structure Verification"
   ]
  },
  {
   "cell_type": "code",
   "execution_count": 2,
   "id": "6fb2d18e",
   "metadata": {},
   "outputs": [
    {
     "name": "stdout",
     "output_type": "stream",
     "text": [
      "data: Exists\n",
      "src: Exists\n",
      "notebooks: Exists\n",
      "results: Exists\n",
      "ui: Exists\n",
      "README.md: Exists\n",
      "requirements.txt: Exists\n"
     ]
    }
   ],
   "source": [
    "# List main project folders and files (check parent directory)\n",
    "import os\n",
    "\n",
    "base = os.path.abspath(os.path.join(os.getcwd(), '..'))\n",
    "for name in ['data', 'src', 'notebooks', 'results', 'ui', 'README.md', 'requirements.txt']:\n",
    "    path = os.path.join(base, name)\n",
    "    print(f\"{name}:\", 'Exists' if os.path.exists(path) else 'Missing')"
   ]
  },
  {
   "cell_type": "markdown",
   "id": "2ab084ac",
   "metadata": {},
   "source": [
    "## 3. Dataset Loading & Summary"
   ]
  },
  {
   "cell_type": "code",
   "execution_count": 5,
   "id": "5891af30",
   "metadata": {},
   "outputs": [
    {
     "name": "stdout",
     "output_type": "stream",
     "text": [
      "Sample keys: ['rooms']\n",
      "Number of rooms: 3\n",
      "Room types: {'bathroom', 'kitchen', 'bedroom'}\n"
     ]
    }
   ],
   "source": [
    "import glob\n",
    "import pickle\n",
    "import pandas as pd\n",
    "import os\n",
    "\n",
    "# Get project root (parent of notebooks/)\n",
    "base = os.path.abspath(os.path.join(os.getcwd(), '..'))\n",
    "data_path = os.path.join(base, 'data', 'raw', 'pickle', 'train', '*.pickle')\n",
    "sample_files = glob.glob(data_path)\n",
    "\n",
    "if sample_files:\n",
    "    with open(sample_files[0], 'rb') as f:\n",
    "        data = pickle.load(f)\n",
    "    print('Sample keys:', list(data.keys()))\n",
    "    # Show summary if possible\n",
    "    if 'rooms' in data:\n",
    "        print('Number of rooms:', len(data['rooms']))\n",
    "        print('Room types:', set(r['type'] for r in data['rooms']))\n",
    "else:\n",
    "    print('No RPLAN pickle files found. Please run src/data/downloader.py to download.')"
   ]
  },
  {
   "cell_type": "markdown",
   "id": "79ef243a",
   "metadata": {},
   "source": [
    "## 4. Early Data Exploration"
   ]
  },
  {
   "cell_type": "code",
   "execution_count": 6,
   "id": "c7383117",
   "metadata": {},
   "outputs": [
    {
     "data": {
      "image/png": "[encoded data removed]",
      "text/plain": [
       "<Figure size 640x480 with 1 Axes>"
      ]
     },
     "metadata": {},
     "output_type": "display_data"
    }
   ],
   "source": [
    "# If data loaded, show a simple plot (room areas)\n",
    "import matplotlib.pyplot as plt\n",
    "import seaborn as sns\n",
    "\n",
    "if 'data' in locals() and 'rooms' in data:\n",
    "    areas = [r['area'] for r in data['rooms'] if 'area' in r]\n",
    "    sns.histplot(areas, bins=20)\n",
    "    plt.title('Distribution of Room Areas')\n",
    "    plt.xlabel('Area (sq ft)')\n",
    "    plt.ylabel('Count')\n",
    "    plt.show()\n",
    "else:\n",
    "    print('No room data available for plotting.')"
   ]
  },
  {
   "cell_type": "markdown",
   "id": "4ff50584",
   "metadata": {},
   "source": [
    "## 5. Environment Verification Complete"
   ]
  }
 ],
 "metadata": {
  "kernelspec": {
   "display_name": "cad-env",
   "language": "python",
   "name": "python3"
  },
  "language_info": {
   "codemirror_mode": {
    "name": "ipython",
    "version": 3
   },
   "file_extension": ".py",
   "mimetype": "text/x-python",
   "name": "python",
   "nbconvert_exporter": "python",
   "pygments_lexer": "ipython3",
   "version": "3.11.14"
  }
 },
 "nbformat": 4,
 "nbformat_minor": 5
}
